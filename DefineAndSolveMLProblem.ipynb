{
 "cells": [
  {
   "cell_type": "markdown",
   "metadata": {},
   "source": [
    "# Lab 8: Define and Solve an ML Problem of Your Choosing"
   ]
  },
  {
   "cell_type": "code",
   "execution_count": 196,
   "metadata": {},
   "outputs": [],
   "source": [
    "import pandas as pd\n",
    "import numpy as np\n",
    "import os \n",
    "import matplotlib.pyplot as plt\n",
    "import seaborn as sns"
   ]
  },
  {
   "cell_type": "markdown",
   "metadata": {},
   "source": [
    "In this lab assignment, you will follow the machine learning life cycle and implement a model to solve a machine learning problem of your choosing. You will select a data set and choose a predictive problem that the data set supports.  You will then inspect the data with your problem in mind and begin to formulate a  project plan. You will then implement the machine learning project plan. \n",
    "\n",
    "You will complete the following tasks:\n",
    "\n",
    "1. Build Your DataFrame\n",
    "2. Define Your ML Problem\n",
    "3. Perform exploratory data analysis to understand your data.\n",
    "4. Define Your Project Plan\n",
    "5. Implement Your Project Plan:\n",
    "    * Prepare your data for your model.\n",
    "    * Fit your model to the training data and evaluate your model.\n",
    "    * Improve your model's performance."
   ]
  },
  {
   "cell_type": "markdown",
   "metadata": {},
   "source": [
    "## Part 1: Build Your DataFrame\n",
    "\n",
    "You will have the option to choose one of four data sets that you have worked with in this program:\n",
    "\n",
    "* The \"census\" data set that contains Census information from 1994: `censusData.csv`\n",
    "* Airbnb NYC \"listings\" data set: `airbnbListingsData.csv`\n",
    "* World Happiness Report (WHR) data set: `WHR2018Chapter2OnlineData.csv`\n",
    "* Book Review data set: `bookReviewsData.csv`\n",
    "\n",
    "Note that these are variations of the data sets that you have worked with in this program. For example, some do not include some of the preprocessing necessary for specific models. \n",
    "\n",
    "#### Load a Data Set and Save it as a Pandas DataFrame\n",
    "\n",
    "The code cell below contains filenames (path + filename) for each of the four data sets available to you.\n",
    "\n",
    "<b>Task:</b> In the code cell below, use the same method you have been using to load the data using `pd.read_csv()` and save it to DataFrame `df`. \n",
    "\n",
    "You can load each file as a new DataFrame to inspect the data before choosing your data set."
   ]
  },
  {
   "cell_type": "code",
   "execution_count": 197,
   "metadata": {},
   "outputs": [
    {
     "data": {
      "text/html": [
       "<div>\n",
       "<style scoped>\n",
       "    .dataframe tbody tr th:only-of-type {\n",
       "        vertical-align: middle;\n",
       "    }\n",
       "\n",
       "    .dataframe tbody tr th {\n",
       "        vertical-align: top;\n",
       "    }\n",
       "\n",
       "    .dataframe thead th {\n",
       "        text-align: right;\n",
       "    }\n",
       "</style>\n",
       "<table border=\"1\" class=\"dataframe\">\n",
       "  <thead>\n",
       "    <tr style=\"text-align: right;\">\n",
       "      <th></th>\n",
       "      <th>country</th>\n",
       "      <th>year</th>\n",
       "      <th>Life Ladder</th>\n",
       "      <th>Log GDP per capita</th>\n",
       "      <th>Social support</th>\n",
       "      <th>Healthy life expectancy at birth</th>\n",
       "      <th>Freedom to make life choices</th>\n",
       "      <th>Generosity</th>\n",
       "      <th>Perceptions of corruption</th>\n",
       "      <th>Positive affect</th>\n",
       "      <th>Negative affect</th>\n",
       "      <th>Confidence in national government</th>\n",
       "      <th>Democratic Quality</th>\n",
       "      <th>Delivery Quality</th>\n",
       "      <th>Standard deviation of ladder by country-year</th>\n",
       "      <th>Standard deviation/Mean of ladder by country-year</th>\n",
       "      <th>GINI index (World Bank estimate)</th>\n",
       "      <th>GINI index (World Bank estimate), average 2000-15</th>\n",
       "      <th>gini of household income reported in Gallup, by wp5-year</th>\n",
       "    </tr>\n",
       "  </thead>\n",
       "  <tbody>\n",
       "    <tr>\n",
       "      <th>0</th>\n",
       "      <td>Afghanistan</td>\n",
       "      <td>2008</td>\n",
       "      <td>3.723590</td>\n",
       "      <td>7.168690</td>\n",
       "      <td>0.450662</td>\n",
       "      <td>49.209663</td>\n",
       "      <td>0.718114</td>\n",
       "      <td>0.181819</td>\n",
       "      <td>0.881686</td>\n",
       "      <td>0.517637</td>\n",
       "      <td>0.258195</td>\n",
       "      <td>0.612072</td>\n",
       "      <td>-1.929690</td>\n",
       "      <td>-1.655084</td>\n",
       "      <td>1.774662</td>\n",
       "      <td>0.476600</td>\n",
       "      <td>NaN</td>\n",
       "      <td>NaN</td>\n",
       "      <td>NaN</td>\n",
       "    </tr>\n",
       "    <tr>\n",
       "      <th>1</th>\n",
       "      <td>Afghanistan</td>\n",
       "      <td>2009</td>\n",
       "      <td>4.401778</td>\n",
       "      <td>7.333790</td>\n",
       "      <td>0.552308</td>\n",
       "      <td>49.624432</td>\n",
       "      <td>0.678896</td>\n",
       "      <td>0.203614</td>\n",
       "      <td>0.850035</td>\n",
       "      <td>0.583926</td>\n",
       "      <td>0.237092</td>\n",
       "      <td>0.611545</td>\n",
       "      <td>-2.044093</td>\n",
       "      <td>-1.635025</td>\n",
       "      <td>1.722688</td>\n",
       "      <td>0.391362</td>\n",
       "      <td>NaN</td>\n",
       "      <td>NaN</td>\n",
       "      <td>0.441906</td>\n",
       "    </tr>\n",
       "    <tr>\n",
       "      <th>2</th>\n",
       "      <td>Afghanistan</td>\n",
       "      <td>2010</td>\n",
       "      <td>4.758381</td>\n",
       "      <td>7.386629</td>\n",
       "      <td>0.539075</td>\n",
       "      <td>50.008961</td>\n",
       "      <td>0.600127</td>\n",
       "      <td>0.137630</td>\n",
       "      <td>0.706766</td>\n",
       "      <td>0.618265</td>\n",
       "      <td>0.275324</td>\n",
       "      <td>0.299357</td>\n",
       "      <td>-1.991810</td>\n",
       "      <td>-1.617176</td>\n",
       "      <td>1.878622</td>\n",
       "      <td>0.394803</td>\n",
       "      <td>NaN</td>\n",
       "      <td>NaN</td>\n",
       "      <td>0.327318</td>\n",
       "    </tr>\n",
       "    <tr>\n",
       "      <th>3</th>\n",
       "      <td>Afghanistan</td>\n",
       "      <td>2011</td>\n",
       "      <td>3.831719</td>\n",
       "      <td>7.415019</td>\n",
       "      <td>0.521104</td>\n",
       "      <td>50.367298</td>\n",
       "      <td>0.495901</td>\n",
       "      <td>0.175329</td>\n",
       "      <td>0.731109</td>\n",
       "      <td>0.611387</td>\n",
       "      <td>0.267175</td>\n",
       "      <td>0.307386</td>\n",
       "      <td>-1.919018</td>\n",
       "      <td>-1.616221</td>\n",
       "      <td>1.785360</td>\n",
       "      <td>0.465942</td>\n",
       "      <td>NaN</td>\n",
       "      <td>NaN</td>\n",
       "      <td>0.336764</td>\n",
       "    </tr>\n",
       "    <tr>\n",
       "      <th>4</th>\n",
       "      <td>Afghanistan</td>\n",
       "      <td>2012</td>\n",
       "      <td>3.782938</td>\n",
       "      <td>7.517126</td>\n",
       "      <td>0.520637</td>\n",
       "      <td>50.709263</td>\n",
       "      <td>0.530935</td>\n",
       "      <td>0.247159</td>\n",
       "      <td>0.775620</td>\n",
       "      <td>0.710385</td>\n",
       "      <td>0.267919</td>\n",
       "      <td>0.435440</td>\n",
       "      <td>-1.842996</td>\n",
       "      <td>-1.404078</td>\n",
       "      <td>1.798283</td>\n",
       "      <td>0.475367</td>\n",
       "      <td>NaN</td>\n",
       "      <td>NaN</td>\n",
       "      <td>0.344540</td>\n",
       "    </tr>\n",
       "  </tbody>\n",
       "</table>\n",
       "</div>"
      ],
      "text/plain": [
       "       country  year  Life Ladder  Log GDP per capita  Social support  \\\n",
       "0  Afghanistan  2008     3.723590            7.168690        0.450662   \n",
       "1  Afghanistan  2009     4.401778            7.333790        0.552308   \n",
       "2  Afghanistan  2010     4.758381            7.386629        0.539075   \n",
       "3  Afghanistan  2011     3.831719            7.415019        0.521104   \n",
       "4  Afghanistan  2012     3.782938            7.517126        0.520637   \n",
       "\n",
       "   Healthy life expectancy at birth  Freedom to make life choices  Generosity  \\\n",
       "0                         49.209663                      0.718114    0.181819   \n",
       "1                         49.624432                      0.678896    0.203614   \n",
       "2                         50.008961                      0.600127    0.137630   \n",
       "3                         50.367298                      0.495901    0.175329   \n",
       "4                         50.709263                      0.530935    0.247159   \n",
       "\n",
       "   Perceptions of corruption  Positive affect  Negative affect  \\\n",
       "0                   0.881686         0.517637         0.258195   \n",
       "1                   0.850035         0.583926         0.237092   \n",
       "2                   0.706766         0.618265         0.275324   \n",
       "3                   0.731109         0.611387         0.267175   \n",
       "4                   0.775620         0.710385         0.267919   \n",
       "\n",
       "   Confidence in national government  Democratic Quality  Delivery Quality  \\\n",
       "0                           0.612072           -1.929690         -1.655084   \n",
       "1                           0.611545           -2.044093         -1.635025   \n",
       "2                           0.299357           -1.991810         -1.617176   \n",
       "3                           0.307386           -1.919018         -1.616221   \n",
       "4                           0.435440           -1.842996         -1.404078   \n",
       "\n",
       "   Standard deviation of ladder by country-year  \\\n",
       "0                                      1.774662   \n",
       "1                                      1.722688   \n",
       "2                                      1.878622   \n",
       "3                                      1.785360   \n",
       "4                                      1.798283   \n",
       "\n",
       "   Standard deviation/Mean of ladder by country-year  \\\n",
       "0                                           0.476600   \n",
       "1                                           0.391362   \n",
       "2                                           0.394803   \n",
       "3                                           0.465942   \n",
       "4                                           0.475367   \n",
       "\n",
       "   GINI index (World Bank estimate)  \\\n",
       "0                               NaN   \n",
       "1                               NaN   \n",
       "2                               NaN   \n",
       "3                               NaN   \n",
       "4                               NaN   \n",
       "\n",
       "   GINI index (World Bank estimate), average 2000-15  \\\n",
       "0                                                NaN   \n",
       "1                                                NaN   \n",
       "2                                                NaN   \n",
       "3                                                NaN   \n",
       "4                                                NaN   \n",
       "\n",
       "   gini of household income reported in Gallup, by wp5-year  \n",
       "0                                                NaN         \n",
       "1                                           0.441906         \n",
       "2                                           0.327318         \n",
       "3                                           0.336764         \n",
       "4                                           0.344540         "
      ]
     },
     "execution_count": 197,
     "metadata": {},
     "output_type": "execute_result"
    }
   ],
   "source": [
    "# File names of the four data sets\n",
    "adultDataSet_filename = os.path.join(os.getcwd(), \"data\", \"censusData.csv\")\n",
    "airbnbDataSet_filename = os.path.join(os.getcwd(), \"data\", \"airbnbListingsData.csv\")\n",
    "WHRDataSet_filename = os.path.join(os.getcwd(), \"data\", \"WHR2018Chapter2OnlineData.csv\")\n",
    "bookReviewDataSet_filename = os.path.join(os.getcwd(), \"data\", \"bookReviewsData.csv\")\n",
    "\n",
    "\n",
    "df = pd.read_csv(WHRDataSet_filename)\n",
    "\n",
    "df.head()"
   ]
  },
  {
   "cell_type": "markdown",
   "metadata": {},
   "source": [
    "## Part 2: Define Your ML Problem\n",
    "\n",
    "Next you will formulate your ML Problem. In the markdown cell below, answer the following questions:\n",
    "\n",
    "1. List the data set you have chosen.\n",
    "2. What will you be predicting? What is the label?\n",
    "3. Is this a supervised or unsupervised learning problem? Is this a clustering, classification or regression problem? Is it a binary classificaiton or multi-class classifiction problem?\n",
    "4. What are your features? (note: this list may change after your explore your data)\n",
    "5. Explain why this is an important problem. In other words, how would a company create value with a model that predicts this label?"
   ]
  },
  {
   "cell_type": "markdown",
   "metadata": {},
   "source": [
    "I will be using the World Happiness Report (WHR) data set to predict how happy a place is. The label would be Life Ladder. This is a supervised regression problem. The features would be 'country', 'year', 'Log GDP per capita','Social support', 'Healthy life expectancy at birth','Freedom to make life choices', 'Generosity','Perceptions of corruption', 'Positive affect', 'Negative affect','Confidence in national government', 'Democratic Quality','Delivery Quality', 'Standard deviation of ladder by country-year','Standard deviation/Mean of ladder by country-year','GINI index (World Bank estimate)','GINI index (World Bank estimate), average 2000-15','gini of household income reported in Gallup, by wp5-year'. This is an important problem because company can use this to determine if a country is good to establish their office or business for a stable establisment when people are generally happy and attracts more people to live in the area as people wants to be happy. "
   ]
  },
  {
   "cell_type": "markdown",
   "metadata": {},
   "source": [
    "## Part 3: Understand Your Data\n",
    "\n",
    "The next step is to perform exploratory data analysis. Inspect and analyze your data set with your machine learning problem in mind. Consider the following as you inspect your data:\n",
    "\n",
    "1. What data preparation techniques would you like to use? These data preparation techniques may include:\n",
    "\n",
    "    * addressing missingness, such as replacing missing values with means\n",
    "    * finding and replacing outliers\n",
    "    * renaming features and labels\n",
    "    * finding and replacing outliers\n",
    "    * performing feature engineering techniques such as one-hot encoding on categorical features\n",
    "    * selecting appropriate features and removing irrelevant features\n",
    "    * performing specific data cleaning and preprocessing techniques for an NLP problem\n",
    "    * addressing class imbalance in your data sample to promote fair AI\n",
    "    \n",
    "\n",
    "2. What machine learning model (or models) you would like to use that is suitable for your predictive problem and data?\n",
    "    * Are there other data preparation techniques that you will need to apply to build a balanced modeling data set for your problem and model? For example, will you need to scale your data?\n",
    " \n",
    " \n",
    "3. How will you evaluate and improve the model's performance?\n",
    "    * Are there specific evaluation metrics and methods that are appropriate for your model?\n",
    "    \n",
    "\n",
    "Think of the different techniques you have used to inspect and analyze your data in this course. These include using Pandas to apply data filters, using the Pandas `describe()` method to get insight into key statistics for each column, using the Pandas `dtypes` property to inspect the data type of each column, and using Matplotlib and Seaborn to detect outliers and visualize relationships between features and labels. If you are working on a classification problem, use techniques you have learned to determine if there is class imbalance.\n",
    "\n",
    "<b>Task</b>: Use the techniques you have learned in this course to inspect and analyze your data. You can import additional packages that you have used in this course that you will need to perform this task.\n",
    "\n",
    "<b>Note</b>: You can add code cells if needed by going to the <b>Insert</b> menu and clicking on <b>Insert Cell Below</b> in the drop-drown menu."
   ]
  },
  {
   "cell_type": "code",
   "execution_count": 198,
   "metadata": {},
   "outputs": [
    {
     "name": "stdout",
     "output_type": "stream",
     "text": [
      "(1562, 19)\n",
      "country                                                      object\n",
      "year                                                          int64\n",
      "Life Ladder                                                 float64\n",
      "Log GDP per capita                                          float64\n",
      "Social support                                              float64\n",
      "Healthy life expectancy at birth                            float64\n",
      "Freedom to make life choices                                float64\n",
      "Generosity                                                  float64\n",
      "Perceptions of corruption                                   float64\n",
      "Positive affect                                             float64\n",
      "Negative affect                                             float64\n",
      "Confidence in national government                           float64\n",
      "Democratic Quality                                          float64\n",
      "Delivery Quality                                            float64\n",
      "Standard deviation of ladder by country-year                float64\n",
      "Standard deviation/Mean of ladder by country-year           float64\n",
      "GINI index (World Bank estimate)                            float64\n",
      "GINI index (World Bank estimate), average 2000-15           float64\n",
      "gini of household income reported in Gallup, by wp5-year    float64\n",
      "dtype: object\n",
      "              year  Life Ladder  Log GDP per capita  Social support  \\\n",
      "count  1562.000000  1562.000000         1535.000000     1549.000000   \n",
      "mean   2011.820743     5.433676            9.220822        0.810669   \n",
      "std       3.419787     1.121017            1.184035        0.119370   \n",
      "min    2005.000000     2.661718            6.377396        0.290184   \n",
      "25%    2009.000000     4.606351            8.310665        0.748304   \n",
      "50%    2012.000000     5.332600            9.398610        0.833047   \n",
      "75%    2015.000000     6.271025           10.190634        0.904329   \n",
      "max    2017.000000     8.018934           11.770276        0.987343   \n",
      "\n",
      "       Healthy life expectancy at birth  Freedom to make life choices  \\\n",
      "count                       1553.000000                   1533.000000   \n",
      "mean                          62.249887                      0.728975   \n",
      "std                            7.960671                      0.145408   \n",
      "min                           37.766476                      0.257534   \n",
      "25%                           57.299580                      0.633754   \n",
      "50%                           63.803192                      0.748014   \n",
      "75%                           68.098228                      0.843628   \n",
      "max                           76.536362                      0.985178   \n",
      "\n",
      "        Generosity  Perceptions of corruption  Positive affect  \\\n",
      "count  1482.000000                1472.000000      1544.000000   \n",
      "mean      0.000079                   0.753622         0.708969   \n",
      "std       0.164202                   0.185538         0.107644   \n",
      "min      -0.322952                   0.035198         0.362498   \n",
      "25%      -0.114313                   0.697359         0.621471   \n",
      "50%      -0.022638                   0.808115         0.717398   \n",
      "75%       0.094649                   0.880089         0.800858   \n",
      "max       0.677773                   0.983276         0.943621   \n",
      "\n",
      "       Negative affect  Confidence in national government  Democratic Quality  \\\n",
      "count      1550.000000                        1401.000000         1391.000000   \n",
      "mean          0.263171                           0.480207           -0.126617   \n",
      "std           0.084006                           0.190724            0.873259   \n",
      "min           0.083426                           0.068769           -2.448228   \n",
      "25%           0.204116                           0.334732           -0.772010   \n",
      "50%           0.251798                           0.463137           -0.225939   \n",
      "75%           0.311515                           0.610723            0.665944   \n",
      "max           0.704590                           0.993604            1.540097   \n",
      "\n",
      "       Delivery Quality  Standard deviation of ladder by country-year  \\\n",
      "count       1391.000000                                   1562.000000   \n",
      "mean           0.004947                                      2.003501   \n",
      "std            0.981052                                      0.379684   \n",
      "min           -2.144974                                      0.863034   \n",
      "25%           -0.717463                                      1.737934   \n",
      "50%           -0.210142                                      1.960345   \n",
      "75%            0.717996                                      2.215920   \n",
      "max            2.184725                                      3.527820   \n",
      "\n",
      "       Standard deviation/Mean of ladder by country-year  \\\n",
      "count                                        1562.000000   \n",
      "mean                                            0.387271   \n",
      "std                                             0.119007   \n",
      "min                                             0.133908   \n",
      "25%                                             0.309722   \n",
      "50%                                             0.369751   \n",
      "75%                                             0.451833   \n",
      "max                                             1.022769   \n",
      "\n",
      "       GINI index (World Bank estimate)  \\\n",
      "count                        583.000000   \n",
      "mean                           0.372846   \n",
      "std                            0.086609   \n",
      "min                            0.241000   \n",
      "25%                            0.307000   \n",
      "50%                            0.349000   \n",
      "75%                            0.433500   \n",
      "max                            0.648000   \n",
      "\n",
      "       GINI index (World Bank estimate), average 2000-15  \\\n",
      "count                                        1386.000000   \n",
      "mean                                            0.386948   \n",
      "std                                             0.083694   \n",
      "min                                             0.228833   \n",
      "25%                                             0.321583   \n",
      "50%                                             0.371000   \n",
      "75%                                             0.433104   \n",
      "max                                             0.626000   \n",
      "\n",
      "       gini of household income reported in Gallup, by wp5-year  \n",
      "count                                        1205.000000         \n",
      "mean                                            0.445204         \n",
      "std                                             0.105410         \n",
      "min                                             0.223470         \n",
      "25%                                             0.368531         \n",
      "50%                                             0.425395         \n",
      "75%                                             0.508579         \n",
      "max                                             0.961435         \n"
     ]
    }
   ],
   "source": [
    "# Inspect Data \n",
    "print(df.shape)\n",
    "print(df.dtypes)\n",
    "print(df.describe())\n"
   ]
  },
  {
   "cell_type": "code",
   "execution_count": 199,
   "metadata": {},
   "outputs": [
    {
     "name": "stdout",
     "output_type": "stream",
     "text": [
      "country                                                       0\n",
      "year                                                          0\n",
      "Life Ladder                                                   0\n",
      "Log GDP per capita                                           27\n",
      "Social support                                               13\n",
      "Healthy life expectancy at birth                              9\n",
      "Freedom to make life choices                                 29\n",
      "Generosity                                                   80\n",
      "Perceptions of corruption                                    90\n",
      "Positive affect                                              18\n",
      "Negative affect                                              12\n",
      "Confidence in national government                           161\n",
      "Democratic Quality                                          171\n",
      "Delivery Quality                                            171\n",
      "Standard deviation of ladder by country-year                  0\n",
      "Standard deviation/Mean of ladder by country-year             0\n",
      "GINI index (World Bank estimate)                            979\n",
      "GINI index (World Bank estimate), average 2000-15           176\n",
      "gini of household income reported in Gallup, by wp5-year    357\n",
      "dtype: int64\n"
     ]
    }
   ],
   "source": [
    "# check for missing values \n",
    "print(df.isnull().sum())\n",
    "\n",
    "# filling in average for NaNs values with average \n",
    "numerical_cols = df.select_dtypes(include='number').columns\n",
    "mean_value = df[numerical_cols].mean()\n",
    "df[numerical_cols] = df[numerical_cols].fillna(mean_value)\n",
    "\n",
    "# dropping GINI index b/c 979 missing values and similar feature to GINI index from 2000-15\n",
    "# droping country as object, too many unique values (164) to encode \n",
    "df = df.drop(columns=['GINI index (World Bank estimate)','country'])"
   ]
  },
  {
   "cell_type": "code",
   "execution_count": 200,
   "metadata": {},
   "outputs": [
    {
     "data": {
      "text/plain": [
       "year                                                        0\n",
       "Life Ladder                                                 0\n",
       "Log GDP per capita                                          0\n",
       "Social support                                              0\n",
       "Healthy life expectancy at birth                            0\n",
       "Freedom to make life choices                                0\n",
       "Generosity                                                  0\n",
       "Perceptions of corruption                                   0\n",
       "Positive affect                                             0\n",
       "Negative affect                                             0\n",
       "Confidence in national government                           0\n",
       "Democratic Quality                                          0\n",
       "Delivery Quality                                            0\n",
       "Standard deviation of ladder by country-year                0\n",
       "Standard deviation/Mean of ladder by country-year           0\n",
       "GINI index (World Bank estimate), average 2000-15           0\n",
       "gini of household income reported in Gallup, by wp5-year    0\n",
       "dtype: int64"
      ]
     },
     "execution_count": 200,
     "metadata": {},
     "output_type": "execute_result"
    }
   ],
   "source": [
    "df.isnull().sum()"
   ]
  },
  {
   "cell_type": "code",
   "execution_count": 201,
   "metadata": {},
   "outputs": [
    {
     "data": {
      "text/plain": [
       "Life Ladder                                                 1.000000\n",
       "Log GDP per capita                                          0.772222\n",
       "Healthy life expectancy at birth                            0.729544\n",
       "Social support                                              0.697204\n",
       "Delivery Quality                                            0.672152\n",
       "Democratic Quality                                          0.577380\n",
       "Positive affect                                             0.552625\n",
       "Freedom to make life choices                                0.523331\n",
       "Generosity                                                  0.199116\n",
       "year                                                       -0.014505\n",
       "Confidence in national government                          -0.082552\n",
       "Standard deviation of ladder by country-year               -0.154257\n",
       "GINI index (World Bank estimate), average 2000-15          -0.163574\n",
       "gini of household income reported in Gallup, by wp5-year   -0.258210\n",
       "Negative affect                                            -0.266959\n",
       "Perceptions of corruption                                  -0.417145\n",
       "Standard deviation/Mean of ladder by country-year          -0.756076\n",
       "Name: Life Ladder, dtype: float64"
      ]
     },
     "execution_count": 201,
     "metadata": {},
     "output_type": "execute_result"
    }
   ],
   "source": [
    "corrs = df.corr()['Life Ladder']\n",
    "corrs_sorted = corrs.sort_values(ascending=False)\n",
    "corrs_sorted"
   ]
  },
  {
   "cell_type": "code",
   "execution_count": 202,
   "metadata": {},
   "outputs": [],
   "source": [
    "# dropping two more columns as correlation with label is 0.0 range\n",
    "df = df.drop(columns = ['year', 'Confidence in national government'], axis=1)\n"
   ]
  },
  {
   "cell_type": "code",
   "execution_count": 203,
   "metadata": {},
   "outputs": [
    {
     "data": {
      "text/plain": [
       "<seaborn.axisgrid.PairGrid at 0x7d7858b9ce10>"
      ]
     },
     "execution_count": 203,
     "metadata": {},
     "output_type": "execute_result"
    },
    {
     "data": {
      "image/png": "[encoded data removed]",
      "text/plain": [
       "<Figure size 540x540 with 9 Axes>"
      ]
     },
     "metadata": {
      "needs_background": "light"
     },
     "output_type": "display_data"
    }
   ],
   "source": [
    "top_corrs = df[['Log GDP per capita','Healthy life expectancy at birth','Social support']]\n",
    "sns.pairplot(data=top_corrs,kind='kde',corner=True)"
   ]
  },
  {
   "cell_type": "code",
   "execution_count": null,
   "metadata": {},
   "outputs": [],
   "source": []
  },
  {
   "cell_type": "code",
   "execution_count": null,
   "metadata": {},
   "outputs": [],
   "source": []
  },
  {
   "cell_type": "markdown",
   "metadata": {},
   "source": [
    "## Part 4: Define Your Project Plan\n",
    "\n",
    "Now that you understand your data, in the markdown cell below, define your plan to implement the remaining phases of the machine learning life cycle (data preparation, modeling, evaluation) to solve your ML problem. Answer the following questions:\n",
    "\n",
    "* Do you have a new feature list? If so, what are the features that you chose to keep and remove after inspecting the data? \n",
    "* Explain different data preparation techniques that you will use to prepare your data for modeling.\n",
    "* What is your model (or models)?\n",
    "* Describe your plan to train your model, analyze its performance and then improve the model. That is, describe your model building, validation and selection plan to produce a model that generalizes well to new data. "
   ]
  },
  {
   "cell_type": "markdown",
   "metadata": {},
   "source": [
    "I removed country, year, Confidence in national government, and GINI index (World Bank estimate as they are less correlated with the label, many missing values, or not numerical. The new features are 'Life Ladder', 'Log GDP per capita', 'Social support','Healthy life expectancy at birth', 'Freedom to make life choices','Generosity', 'Perceptions of corruption', 'Positive affect','Negative affect', 'Democratic Quality', 'Delivery Quality','Standard deviation of ladder by country-year','Standard deviation/Mean of ladder by country-year','GINI index (World Bank estimate), average 2000-15','gini of household income reported in Gallup, by wp5-year'. \n",
    "\n",
    "I did the data preparation above in part 3 as I did some inspection and understanding of the data. It become instinct to do the machine learning process. I checked for NaNs values where I removed any large missing data or fill in the avergae values for numerical data. Later, I checked for feature correlation with the label and dropped two features in the 0.0 range. Additionally, I created a seaborn plot for visualization of the top 3 correlation. \n",
    "\n",
    "I plan to test out linear and random forest model to see which one performs better. Linear regression gives a straight forward fast preidction and random forest dives deeper with more detials for a cost of more time. I will test train split my data and adjust hpyerparamters to try to attain a good accuracy performance. "
   ]
  },
  {
   "cell_type": "markdown",
   "metadata": {},
   "source": [
    "## Part 5: Implement Your Project Plan\n",
    "\n",
    "<b>Task:</b> In the code cell below, import additional packages that you have used in this course that you will need to implement your project plan."
   ]
  },
  {
   "cell_type": "code",
   "execution_count": 204,
   "metadata": {},
   "outputs": [],
   "source": [
    "from sklearn.model_selection import train_test_split \n",
    "from sklearn.linear_model import LinearRegression \n",
    "from sklearn.ensemble import RandomForestRegressor\n",
    "from sklearn.metrics import mean_squared_error, r2_score \n",
    "\n",
    "# label \n",
    "y = df['Life Ladder']\n",
    "X = df.drop(columns = 'Life Ladder', axis=1)\n",
    "\n",
    "X_train, X_test, y_train, y_test = train_test_split(X, y, test_size=0.33, random_state=123)"
   ]
  },
  {
   "cell_type": "markdown",
   "metadata": {},
   "source": [
    "<b>Task:</b> Use the rest of this notebook to carry out your project plan. \n",
    "\n",
    "You will:\n",
    "\n",
    "1. Prepare your data for your model.\n",
    "2. Fit your model to the training data and evaluate your model.\n",
    "3. Improve your model's performance by performing model selection and/or feature selection techniques to find best model for your problem.\n",
    "\n",
    "Add code cells below and populate the notebook with commentary, code, analyses, results, and figures as you see fit. "
   ]
  },
  {
   "cell_type": "code",
   "execution_count": 205,
   "metadata": {},
   "outputs": [
    {
     "name": "stdout",
     "output_type": "stream",
     "text": [
      "Root Mean Squared Error: 0.2890921136426244\n",
      "R2: 0.9344826139163859\n"
     ]
    }
   ],
   "source": [
    "# linear regression \n",
    "lin_reg = LinearRegression()\n",
    "lin_reg.fit(X_train, y_train)\n",
    "lin_pred = lin_reg.predict(X_test)\n",
    "\n",
    "rmse = mean_squared_error(y_test, lin_pred, squared=False)\n",
    "r2   = r2_score(y_test, lin_pred)\n",
    "\n",
    "print('Root Mean Squared Error: {0}'.format(rmse))\n",
    "print('R2: {0}'.format(r2))"
   ]
  },
  {
   "cell_type": "code",
   "execution_count": 206,
   "metadata": {},
   "outputs": [
    {
     "name": "stdout",
     "output_type": "stream",
     "text": [
      "Root Mean Squared Error: 0.20681355856891198\n",
      "R2: 0.9664693410502233\n"
     ]
    }
   ],
   "source": [
    "# random forest \n",
    "random_forest = RandomForestRegressor(\n",
    "    n_estimators=100,    \n",
    "    max_depth=None,      \n",
    "    min_samples_leaf=2,  \n",
    "    random_state=42,           \n",
    ")\n",
    "\n",
    "random_forest.fit(X_train, y_train)\n",
    "rf_pred = random_forest.predict(X_test)\n",
    "\n",
    "rmse = mean_squared_error(y_test, rf_pred, squared=False)\n",
    "r2   = r2_score(y_test, rf_pred)\n",
    "\n",
    "\n",
    "print('Root Mean Squared Error: {0}'.format(rmse))\n",
    "print('R2: {0}'.format(r2))"
   ]
  },
  {
   "cell_type": "code",
   "execution_count": 207,
   "metadata": {},
   "outputs": [
    {
     "name": "stdout",
     "output_type": "stream",
     "text": [
      "Root Mean Squared Error: 0.5617582423323206\n",
      "R2: 0.7526095218335902\n"
     ]
    }
   ],
   "source": [
    "random_forest = RandomForestRegressor(\n",
    "    n_estimators=100,    \n",
    "    max_depth=2,      \n",
    "    min_samples_leaf=2,  \n",
    "    random_state=42,\n",
    ")\n",
    "\n",
    "random_forest.fit(X_train, y_train)\n",
    "rf_pred = random_forest.predict(X_test)\n",
    "\n",
    "rmse = mean_squared_error(y_test, rf_pred, squared=False)\n",
    "r2   = r2_score(y_test, rf_pred)\n",
    "\n",
    "\n",
    "print('Root Mean Squared Error: {0}'.format(rmse))\n",
    "print('R2: {0}'.format(r2))"
   ]
  },
  {
   "cell_type": "code",
   "execution_count": 208,
   "metadata": {},
   "outputs": [
    {
     "name": "stdout",
     "output_type": "stream",
     "text": [
      "Root Mean Squared Error: 0.23918098713328811\n",
      "R2: 0.9551525885160774\n"
     ]
    }
   ],
   "source": [
    "random_forest = RandomForestRegressor(\n",
    "    n_estimators=100,    \n",
    "    max_depth=None,      \n",
    "    min_samples_leaf=8,  \n",
    "    random_state=42,           \n",
    ")\n",
    "\n",
    "random_forest.fit(X_train, y_train)\n",
    "rf_pred = random_forest.predict(X_test)\n",
    "\n",
    "rmse = mean_squared_error(y_test, rf_pred, squared=False)\n",
    "r2   = r2_score(y_test, rf_pred)\n",
    "\n",
    "\n",
    "print('Root Mean Squared Error: {0}'.format(rmse))\n",
    "print('R2: {0}'.format(r2))"
   ]
  },
  {
   "cell_type": "code",
   "execution_count": 209,
   "metadata": {},
   "outputs": [
    {
     "name": "stdout",
     "output_type": "stream",
     "text": [
      "Root Mean Squared Error: 0.20447133893958744\n",
      "R2: 0.9672245279578912\n"
     ]
    }
   ],
   "source": [
    "random_forest = RandomForestRegressor(\n",
    "    n_estimators=500,    \n",
    "    max_depth=None,      \n",
    "    min_samples_leaf=2,  \n",
    "    random_state=42,           \n",
    ")\n",
    "\n",
    "random_forest.fit(X_train, y_train)\n",
    "rf_pred = random_forest.predict(X_test)\n",
    "\n",
    "rmse = mean_squared_error(y_test, rf_pred, squared=False)\n",
    "r2   = r2_score(y_test, rf_pred)\n",
    "\n",
    "\n",
    "print('Root Mean Squared Error: {0}'.format(rmse))\n",
    "print('R2: {0}'.format(r2))"
   ]
  },
  {
   "cell_type": "markdown",
   "metadata": {},
   "source": [
    "Random forest has a higher accuracy of 0.96 than linear regression of 0.93. Then, I tried to improve accuracy by adjusting the hyperparamters around. I was able to improved it from 0.966 to 0.967 by increasing the n_estimators to from 100 to 500. Other ones like max_depth and min_samples_leaf doesn't change much when I play the numbers around and one even got worse with an increase in rmse score when I adjust max_depth. A 0.96 is a good r2 score and 0.23 a good low rmse, so I would say it is good performance. Lastlt, it maybe be prone to overfitting as I did a lot of average fill in data for NaNs but overall I think it is good. "
   ]
  },
  {
   "cell_type": "code",
   "execution_count": null,
   "metadata": {},
   "outputs": [],
   "source": []
  }
 ],
 "metadata": {
  "kernelspec": {
   "display_name": "Python 3 (ipykernel)",
   "language": "python",
   "name": "python3"
  },
  "language_info": {
   "codemirror_mode": {
    "name": "ipython",
    "version": 3
   },
   "file_extension": ".py",
   "mimetype": "text/x-python",
   "name": "python",
   "nbconvert_exporter": "python",
   "pygments_lexer": "ipython3",
   "version": "3.9.19"
  },
  "toc": {
   "base_numbering": 1,
   "nav_menu": {},
   "number_sections": false,
   "sideBar": true,
   "skip_h1_title": false,
   "title_cell": "Table of Contents",
   "title_sidebar": "Contents",
   "toc_cell": false,
   "toc_position": {},
   "toc_section_display": true,
   "toc_window_display": false
  },
  "varInspector": {
   "cols": {
    "lenName": 16,
    "lenType": 16,
    "lenVar": 40
   },
   "kernels_config": {
    "python": {
     "delete_cmd_postfix": "",
     "delete_cmd_prefix": "del ",
     "library": "var_list.py",
     "varRefreshCmd": "print(var_dic_list())"
    },
    "r": {
     "delete_cmd_postfix": ") ",
     "delete_cmd_prefix": "rm(",
     "library": "var_list.r",
     "varRefreshCmd": "cat(var_dic_list()) "
    }
   },
   "types_to_exclude": [
    "module",
    "function",
    "builtin_function_or_method",
    "instance",
    "_Feature"
   ],
   "window_display": false
  }
 },
 "nbformat": 4,
 "nbformat_minor": 4
}
